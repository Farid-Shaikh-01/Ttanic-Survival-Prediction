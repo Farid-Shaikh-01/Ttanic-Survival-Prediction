# 1. Import libraries
import seaborn as sns
import pandas as pd
import matplotlib.pyplot as plt
from sklearn.model_selection import train_test_split, GridSearchCV
from sklearn.preprocessing import StandardScaler, OneHotEncoder
from sklearn.compose import ColumnTransformer
from sklearn.pipeline import Pipeline
from sklearn.ensemble import RandomForestClassifier
from sklearn.metrics import classification_report, roc_auc_score, confusion_matrix
import joblib

# 2. Load data
data = sns.load_dataset('titanic')
data = data[['survived', 'pclass', 'sex', 'age', 'fare', 'embarked']]
data.dropna(inplace=True)

# 3. Features & target
X = data.drop('survived', axis=1)
y = data['survived']

# 4. Define numeric & categorical columns
numeric_features = ['age', 'fare']
categorical_features = ['pclass', 'sex', 'embarked']

# 5. Preprocessor
numeric_transformer = StandardScaler()
categorical_transformer = OneHotEncoder(handle_unknown='ignore')

preprocessor = ColumnTransformer([
    ('num', numeric_transformer, numeric_features),
    ('cat', categorical_transformer, categorical_features)
])

# 6. Pipeline with Random Forest
pipeline = Pipeline([
    ('preprocessor', preprocessor),
    ('model', RandomForestClassifier(random_state=42))
])

# 7. Train/Test Split
X_train, X_test, y_train, y_test = train_test_split(
    X, y, test_size=0.2, random_state=42)

# 8. Grid Search
param_grid = {
    'model__n_estimators': [50, 100],
    'model__max_depth': [3, 5, None]
}

grid = GridSearchCV(pipeline, param_grid, cv=5)
grid.fit(X_train, y_train)

# 9. Evaluate
y_pred = grid.predict(X_test)
print("Best Params:", grid.best_params_)
print("\nClassification Report:\n", classification_report(y_test, y_pred))

y_prob = grid.predict_proba(X_test)[:, 1]
print("AUC Score:", roc_auc_score(y_test, y_prob))

# 📊 Plot : Confusion Matrix
conf = confusion_matrix(y_test, y_pred)
sns.heatmap(conf, annot=True, cmap='Blues', fmt='g',
            xticklabels=['Not Survived', 'Survived'],
            yticklabels=['Not Survived', 'Survived'])
plt.title("Confusion Matrix")
plt.xlabel("Predicted Label")
plt.ylabel("True Label")
plt.show()


# 10. Save & Load Model
joblib.dump(grid.best_estimator_, 'titanic_model.pkl')
model = joblib.load('titanic_model.pkl')
print("Model loaded successfully!")
